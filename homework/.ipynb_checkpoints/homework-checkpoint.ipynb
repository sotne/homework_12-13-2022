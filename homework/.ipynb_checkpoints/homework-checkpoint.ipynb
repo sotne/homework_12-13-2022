{
 "cells": [
  {
   "cell_type": "markdown",
   "id": "0151f714",
   "metadata": {},
   "source": [
    "# Exercises"
   ]
  },
  {
   "cell_type": "markdown",
   "id": "11e48381",
   "metadata": {},
   "source": [
    "### Exercise 1 - Turn the shopping cart program into an object-oriented program"
   ]
  },
  {
   "cell_type": "code",
   "execution_count": null,
   "id": "f282fe52",
   "metadata": {},
   "outputs": [],
   "source": [
    "# def my_list():\n",
    "#     x = \"\"\n",
    "#     while x != \"quit\":\n",
    "#         x = input(\"what would you like to do (add/remove/show/quit)? \")\n",
    "\n",
    "#         if x == \"add\":\n",
    "#             item = input(\"what would you like to add? \")\n",
    "#             price = float(input(\"How much does this cost? \"))\n",
    "#             quantity = int(input(\"how many are you getting? \"))\n",
    "#             grocery_list[item] = ({'Price':price ,'Quantity': quantity, 'Total':price*quantity})\n",
    "\n",
    "#         if x == \"remove\":\n",
    "#             item = input(\"what would you like to remove? \")\n",
    "#             quantity = int(input(\"how many are you removing? \"))\n",
    "\n",
    "#             if grocery_list[item]['Quantity'] > quantity:\n",
    "#                 grocery_list[item]['Quantity'] = grocery_list[item]['Quantity'] - quantity\n",
    "#                 grocery_list[item]['Total'] = grocery_list[item]['Quantity']*grocery_list[item]['Price']\n",
    "#             else:\n",
    "#                 del(grocery_list[item])\n",
    "\n",
    "\n",
    "#         if x == \"show\":\n",
    "#             print(grocery_list)\n",
    "#     print(\"-----Receipt------\")\n",
    "#     receipt_total = 0\n",
    "#     for key in grocery_list:\n",
    "#         print(key, \"\\tPrice:\", grocery_list[key]['Price'], \"\\tQuantity:\", grocery_list[key]['Quantity'], \"\\tTotal\", grocery_list[key]['Total'])\n",
    "#         receipt_total += grocery_list[key]['Total']\n",
    "#     print(\"Total Cost: $\" + str(round(receipt_total, 2)))\n",
    "# my_list()"
   ]
  },
  {
   "cell_type": "code",
   "execution_count": 7,
   "id": "eefb6204",
   "metadata": {},
   "outputs": [
    {
     "ename": "SyntaxError",
     "evalue": "invalid syntax (1406941461.py, line 4)",
     "output_type": "error",
     "traceback": [
      "\u001b[1;36m  Input \u001b[1;32mIn [7]\u001b[1;36m\u001b[0m\n\u001b[1;33m    def __init__(self,custmomer)\u001b[0m\n\u001b[1;37m                                ^\u001b[0m\n\u001b[1;31mSyntaxError\u001b[0m\u001b[1;31m:\u001b[0m invalid syntax\n"
     ]
    }
   ],
   "source": [
    "# Create a class called cart that retains items and has methods to add, remove, and show\n",
    "\n",
    "class Cart():\n",
    "    def __init__(self,custmomer_name):\n",
    "        self.customer_name = customer_name\n",
    "        self.cart = []\n",
    "    def add_to_cart(self, add):\n",
    "        pass\n",
    "    def remove_from_cart(self, remove):\n",
    "        pass\n",
    "    def show_cart(self):\n",
    "        pass\n",
    "    \n",
    "class Run():\n",
    "    my_cart = Cart('brian')\n",
    "    while True:\n",
    "        ask = input(\"what would you like to do (add/remove/show/quit)? \")\n",
    "        if ask == 'add':\n",
    "            my_cart.add_to_cart()\n",
    "        if ask == 'remove':\n",
    "            my_cart.remove_from_cart\n",
    "        if ask == 'show':\n",
    "            return self.cart\n",
    "        elif ask == 'quit':\n",
    "            break\n",
    "    "
   ]
  },
  {
   "cell_type": "markdown",
   "id": "73419eea",
   "metadata": {},
   "source": [
    "### Exercise 2 - Write a Python class for an Animal that has a name and energy attributes. The animal class should also have methods for eat, sleep, and play that will take in an integer and increase/decrease the energy of the animal with a formatted print statement"
   ]
  },
  {
   "cell_type": "code",
   "execution_count": 6,
   "id": "d9c58b86",
   "metadata": {},
   "outputs": [
    {
     "name": "stdout",
     "output_type": "stream",
     "text": [
      "james has eaten 5 items and his energy has gone up by 25\n",
      "billy has slept 6 hours and his energy has increase by 13\n",
      "puffer has played for 90 minutes and his energy has gone down by 30\n"
     ]
    }
   ],
   "source": [
    "# Example 1\n",
    "# buddy = Animal('Buddy', 10)\n",
    "# buddy.play(5) -> \"Buddy is playing for 5 minutes. His energy is now 5\"\n",
    "# buddy.sleep(10) -> \"Buddy is sleeping for 5 minutes. His energy is now 15\"\n",
    "\n",
    "class Animal():\n",
    "    def __init__(self, name,energy=100):\n",
    "        self.name = name\n",
    "        self.energy = energy\n",
    "    def animal_name(self):\n",
    "        return f'this is {self.name}'\n",
    "    def eat(self, items_eaten):\n",
    "        unit_increase = items_eaten *5\n",
    "        self.energy += unit_increase\n",
    "        print (f'{self.name} has eaten {items_eaten} items and his energy has gone up by {unit_increase}')\n",
    "    def sleep(self, hour):\n",
    "        unit_increase = hour+7\n",
    "        self.energy += unit_increase\n",
    "        print (f'{self.name} has slept {hour} hours and his energy has increase by {unit_increase}')\n",
    "    def play(self, minutes):\n",
    "        unit_decrease = minutes // 3\n",
    "        self.energy -= unit_decrease\n",
    "        print (f'{self.name} has played for {minutes} minutes and his energy has gone down by {unit_decrease}')\n",
    "animal1 = Animal('james')\n",
    "animal2 = Animal('billy')\n",
    "animal3 = Animal('puffer')\n",
    "\n",
    "animal1.eat(5)\n",
    "animal2.sleep(6)\n",
    "animal3.play(90)\n"
   ]
  },
  {
   "cell_type": "code",
   "execution_count": null,
   "id": "13da0ef2",
   "metadata": {},
   "outputs": [],
   "source": []
  }
 ],
 "metadata": {
  "kernelspec": {
   "display_name": "Python 3 (ipykernel)",
   "language": "python",
   "name": "python3"
  },
  "language_info": {
   "codemirror_mode": {
    "name": "ipython",
    "version": 3
   },
   "file_extension": ".py",
   "mimetype": "text/x-python",
   "name": "python",
   "nbconvert_exporter": "python",
   "pygments_lexer": "ipython3",
   "version": "3.9.12"
  }
 },
 "nbformat": 4,
 "nbformat_minor": 5
}
