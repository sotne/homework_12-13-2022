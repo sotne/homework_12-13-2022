{
 "cells": [
  {
   "cell_type": "code",
   "execution_count": null,
   "id": "a9efe14b",
   "metadata": {},
   "outputs": [],
   "source": [
    "Given a list of integers, write a function that determines whether the sum of its elements is odd or even.\n",
    "\n",
    "Return your answer as a string matching \"odd\" or \"even\".\n",
    "\n",
    "If the input array is empty consider it as [0] (array with a zero).\n",
    "\n",
    "Examples:\n",
    "Input: [0]\n",
    "Output: \"even\"\n",
    "\n",
    "Input: [0, 1, 4]\n",
    "Output: \"odd\"\n",
    "\n",
    "Input: [0, -1, -5]\n",
    "Output: \"even\""
   ]
  },
  {
   "cell_type": "code",
   "execution_count": 9,
   "id": "c1ce72af",
   "metadata": {},
   "outputs": [
    {
     "name": "stdout",
     "output_type": "stream",
     "text": [
      "even\n"
     ]
    }
   ],
   "source": [
    "# a list of any numbers\n",
    "#sum is equal to odd or even\n",
    "#the answer must print the string of odd or even\n",
    "# the list should start empty with a o being even\n",
    "\n",
    "def odd_even(a_list):\n",
    "    total=0\n",
    "    for num in a_list:\n",
    "        total += num\n",
    "    if total % 2 == 0:\n",
    "        return \"even\"\n",
    "    else:\n",
    "        return \"odd\"\n",
    "print(odd_even([2, 3, 4, 5]))"
   ]
  },
  {
   "cell_type": "code",
   "execution_count": null,
   "id": "8ab549b5",
   "metadata": {},
   "outputs": [],
   "source": []
  }
 ],
 "metadata": {
  "kernelspec": {
   "display_name": "Python 3 (ipykernel)",
   "language": "python",
   "name": "python3"
  },
  "language_info": {
   "codemirror_mode": {
    "name": "ipython",
    "version": 3
   },
   "file_extension": ".py",
   "mimetype": "text/x-python",
   "name": "python",
   "nbconvert_exporter": "python",
   "pygments_lexer": "ipython3",
   "version": "3.9.12"
  }
 },
 "nbformat": 4,
 "nbformat_minor": 5
}
